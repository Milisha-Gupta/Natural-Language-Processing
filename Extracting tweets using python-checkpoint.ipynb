{
 "cells": [
  {
   "cell_type": "code",
   "execution_count": 1,
   "metadata": {},
   "outputs": [],
   "source": [
    "import os\n",
    "import tweepy as tw\n",
    "import pandas as pd"
   ]
  },
  {
   "cell_type": "code",
   "execution_count": 2,
   "metadata": {},
   "outputs": [],
   "source": [
    "consumer_key= 'VltGwdkmXtwm38YoA8jRZviGM'\n",
    "consumer_secret= 'Eh5oKI4gC78t5QzHZh9bBoBG2FiIE3jmk3QJawkyLsfZosuNmM'\n",
    "access_token= '1136518170464808960-ZsnjgsFxB1PMEIAF9WXK8uzRvVTUlw'\n",
    "access_token_secret= 'miPK2Fn9S2J8izdtNzEEpsofWaGJt2NS4SejgFk1YzsiW'"
   ]
  },
  {
   "cell_type": "code",
   "execution_count": 3,
   "metadata": {},
   "outputs": [],
   "source": [
    "auth = tw.OAuthHandler(consumer_key, consumer_secret)\n",
    "auth.set_access_token(access_token, access_token_secret)\n",
    "api = tw.API(auth, wait_on_rate_limit=True)"
   ]
  },
  {
   "cell_type": "code",
   "execution_count": 4,
   "metadata": {},
   "outputs": [],
   "source": [
    "# Define the search term and the date_since date as variables\n",
    "search_words = \"#Bitcoin\"\n",
    "date_since = \"2018-11-16\""
   ]
  },
  {
   "cell_type": "code",
   "execution_count": 5,
   "metadata": {},
   "outputs": [
    {
     "data": {
      "text/plain": [
       "<tweepy.cursor.ItemIterator at 0x25dd3f6f848>"
      ]
     },
     "execution_count": 5,
     "metadata": {},
     "output_type": "execute_result"
    }
   ],
   "source": [
    "# Collect tweets\n",
    "tweets = tw.Cursor(api.search,\n",
    "              q=search_words,\n",
    "              lang=\"en\",\n",
    "              since=date_since).items(100)\n",
    "tweets"
   ]
  },
  {
   "cell_type": "code",
   "execution_count": 6,
   "metadata": {},
   "outputs": [
    {
     "name": "stdout",
     "output_type": "stream",
     "text": [
      "RT @binance: $ 4 2 , 0 0 0 \n",
      "\n",
      "#Bitcoin just made a new all-time high!\n",
      "RT @TradeBlock: Tesla joins the ranks of the largest public companies to hold #bitcoin on their balance sheets. https://t.co/QlcjGZinSQ\n",
      "RT @ForbesCrypto: UPDATE: Aside from purchasing $1.5 billion worth of #bitcoin #btc, Tesla will also begin to accept it as a form of paymen…\n",
      "RT @zhusu: TESLA HAS BOUGHT $1.5BN IN BITCOIN - SEC FILING\n",
      "\n",
      "#Bitcoin $BTC\n",
      "RT @TexanHodl: imagine being one of the dickslaps who sold their #bitcoin to elon musk 😂😂😂😂😂😂\n"
     ]
    }
   ],
   "source": [
    "# Collect tweets\n",
    "tweets = tw.Cursor(api.search,\n",
    "              q=search_words,\n",
    "              lang=\"en\",\n",
    "              since=date_since).items(5)\n",
    "\n",
    "# Iterate and print tweets\n",
    "for tweet in tweets:\n",
    "    print(tweet.text)"
   ]
  },
  {
   "cell_type": "code",
   "execution_count": 7,
   "metadata": {
    "scrolled": true
   },
   "outputs": [
    {
     "data": {
      "text/plain": [
       "['RT @binance: $ 4 2 , 0 0 0 \\n\\n#Bitcoin just made a new all-time high!',\n",
       " 'RT @TradeBlock: Tesla joins the ranks of the largest public companies to hold #bitcoin on their balance sheets. https://t.co/QlcjGZinSQ',\n",
       " 'RT @ForbesCrypto: UPDATE: Aside from purchasing $1.5 billion worth of #bitcoin #btc, Tesla will also begin to accept it as a form of paymen…',\n",
       " 'RT @zhusu: TESLA HAS BOUGHT $1.5BN IN BITCOIN - SEC FILING\\n\\n#Bitcoin $BTC',\n",
       " 'RT @TexanHodl: imagine being one of the dickslaps who sold their #bitcoin to elon musk 😂😂😂😂😂😂']"
      ]
     },
     "execution_count": 7,
     "metadata": {},
     "output_type": "execute_result"
    }
   ],
   "source": [
    "# Collect tweets\n",
    "tweets = tw.Cursor(api.search,\n",
    "                       q=search_words,\n",
    "                       lang=\"en\",\n",
    "                       since=date_since).items(5)\n",
    "\n",
    "# Collect a list of tweets\n",
    "[tweet.text for tweet in tweets]"
   ]
  },
  {
   "cell_type": "code",
   "execution_count": 8,
   "metadata": {},
   "outputs": [
    {
     "data": {
      "text/plain": [
       "'#Bitcoin -filter:retweets'"
      ]
     },
     "execution_count": 8,
     "metadata": {},
     "output_type": "execute_result"
    }
   ],
   "source": [
    "new_search = search_words + \" -filter:retweets\"\n",
    "new_search"
   ]
  },
  {
   "cell_type": "code",
   "execution_count": 9,
   "metadata": {},
   "outputs": [
    {
     "data": {
      "text/plain": [
       "['#cryptocurrency is going crazy because a Discord trading server with  320,000 members just pumped #bitcoin. They we… https://t.co/JcKHaLUK8F',\n",
       " '#Bitcoin And #dogecoin going parabolic as they should',\n",
       " '@PeterSchiff @novogratz @elonmusk Michael Saylor pumped #bitcoin to 42k\\nElon will boost it to 100k\\nPeter Schiff hop… https://t.co/ELhs4AFN82',\n",
       " '$TSLA put in $1.5Billion  in #Bitcoin  1K Tesla coming soon.',\n",
       " \"Again this year ain't for NFT... 2022 and 2023 would be .... this year is for #bitcoin and #Defi \\n#blockchain #cryptocurrency\",\n",
       " '$btc is getting pumped by a large #bitcoin pump group. They also pumped $doge last week! https://t.co/GdWAudWJEs… https://t.co/hn68f8675E',\n",
       " 'I sold all my #Bitcoin for $Doge at .000002 b/c Elon said shit was about to moon 😅\\n\\nI feel so betrayed. Looks like… https://t.co/WjBrkUriTM',\n",
       " 'Martin Luther King and others stood for our civil rights and liberation,\\nThis REDDIT generation stands for our FINA… https://t.co/hH27ZEi4ke',\n",
       " 'Tesla plans to accept Bitcoins in the near future.\\n#Tesla #Bitcoin \\nhttps://t.co/Q5e9IzwI9t',\n",
       " 'Tesla bought #Bitcoin, but why is $DOGE rising?',\n",
       " 'This is HUGE for cryptocurrency!!!! #Bitcoin https://t.co/dbfZKsqaaS',\n",
       " '@michael_saylor @elonmusk @Tesla .@elonmusk and $TSLA adding $1.5B #Bitcoin to its balance sheet is both a visionar… https://t.co/abJMLhZikZ',\n",
       " 'My forecast for 300 is fit and no surprise. 😂😂 #bitcoin \\n\\nWe see Elon fueled #dogecoin and let them sell Bitcoin to… https://t.co/IehjHUjqBW',\n",
       " 'All hail @michael_saylor , All hail @elonmusk :D #Bitcoin',\n",
       " '$BTC #Bitcoin Update BTC 43k8 https://t.co/DldUTgEI6m https://t.co/PGMGMqz07n',\n",
       " '#Bitcoin jumps to fresh ATH as #Tesla buys $1.5B in bitcoin and a large Discord trading group announces they are pu… https://t.co/5E2OJH74w5',\n",
       " 'Back in 2013, someone paid #bitcoin for a Tesla Model S from Lamborghini Newport Beach. The dealership recently adv… https://t.co/sa8V2f9P9Y',\n",
       " 'Tesla buying #Bitcoin @elonmusk buying #dogecoin https://t.co/dXpzXkLgXL',\n",
       " '🗣️  #Tesla invested $1.5 Billion in #Bitcoin',\n",
       " 'I wonder how silly Guggenheim is going to feel the only investing 1/3 as much into #Bitcoin as @Tesla',\n",
       " '@Tesla.....welcomes #Bitcoin 🔥',\n",
       " '#Bitcoin and @binance trending in India 🇮🇳',\n",
       " 'Guys, I thought this was gonna be a buy the rumor sell the news type of day??? \\n\\nGuys..?\\n\\n@elonmusk...?\\n\\nAnybody..?\\n\\n#Bitcoin',\n",
       " 'Statistics Expert at your service \\n#statistics\\n#probability\\n#Bitcoin\\n#English\\n#essaypay\\n#Maths\\n#Essaydue\\n#Chemistry… https://t.co/ZitqdG5E6y',\n",
       " 'Elon Musk taking a big bite of that 21M #Bitcoin whale. https://t.co/Jr5bjw0wFU',\n",
       " 'Yo @Tesla &amp; @elonmusk I heard you’ll be accepting #bitcoin as payment soon. Might have to get one of those soon 😏😂',\n",
       " '@stoolpresidente #bitcoin to $100k this week 🚀🚀🚀',\n",
       " '$BTC PERFECT Cup &amp; Handle into Inverse Head &amp; Shoulders breakout at the 50% pitchfork fib! 🔥 Chart precedes news! B… https://t.co/WNBjeJ44vQ',\n",
       " '#Bitcoin jumps to fresh ATH as #Tesla buys $1.5B in bitcoin and a large Discord trading group announces they are pu… https://t.co/EtPSNYNHEX',\n",
       " 'Domain for sale: Bitcoin24 (.)shop 💱 #domain #domains #sale #bitcoin\\xa0#btc\\xa0#xrp #brands #Ethereum #branding… https://t.co/OPV0V4oWB1',\n",
       " 'Vol I bought past few days doin really well\\n\\nVol I shorted past few days looks like 💩\\n\\n#Bitcoin \\n\\n#optiontrading',\n",
       " 'So every $TSLA holder is now a #Bitcoin hodler. #TrueStory',\n",
       " 'if they spent 1.5 billion on #bitcoin how much did they spend on #Doge ?? #dogecoin',\n",
       " 'Have a quess who invested 1,5 Billion in #Bitcoin?\\nOf course it was @elonmusk #Tesla. The Palo Alto, California-bas… https://t.co/ZZauwvU7G6',\n",
       " 'An exciting day for #bitcoin, and still just the beginning, thanks for the fun Elon! \\n\\nhttps://t.co/3MulVakFIu',\n",
       " '$gbtc #bitcoin moon 🌙 https://t.co/da7hMMGgsq',\n",
       " '\"Buy the Rumor, Sell the News\", watch it pals; #Bitcoin',\n",
       " \"This #bitcoin tweet didn't age well. https://t.co/CLbcJjjDgi\",\n",
       " 'No way! The Discord trading group that pumped $doge is now pumping $btc. Look at their last announcement about… https://t.co/uIXnfjaBPO',\n",
       " '#bitcoin is currently getting pumped by a large #cryptocurrency pump group. They were also the reason for the $doge… https://t.co/7fP6Nldxht',\n",
       " '@bittymcbitface @glr_1990 Good counter point, was just thinking out loud about how businesses could build their… https://t.co/vZgsKrGZIh',\n",
       " '@cameron British Racing Green #Bitcoin https://t.co/yNAPFZGj4S',\n",
       " 'Now about whether I bought Tesla #Bitcoin or not.\\nMy answer is no, this is the usual market manipulation. \\n\\nI reall… https://t.co/EQzT53lJy8',\n",
       " '#bitcoin all time high https://t.co/8SWFF4iAt2',\n",
       " 'I gave y’all the warning! #bitcoin back at ATH 🚀 https://t.co/jJ9ZRn13m9',\n",
       " '#Bitcoin jumps to fresh ATH as #Tesla buys $1.5B in bitcoin and a large Discord trading group announces they are pu… https://t.co/xlX3kNmqNh',\n",
       " 'Every business will start accepting #bitcoin \\n\\nIt’s not a question of if, but when. https://t.co/SKnXg8lCe1',\n",
       " 'Bitcoin Core 0.21.0 Released https://t.co/x4aKh77fmf #bitcoin',\n",
       " 'How long before #Amazon comes to #bitcoin?',\n",
       " '#Bitcoin has jumped over 15% since the announcement of @elonmusk buying btc for $1.5bn. Meaning Tesla and Elon Musk… https://t.co/UKghEpQpPh',\n",
       " \"@orf3us @Athena_reads @GreekAnalyst You might have a point, if you didn't compare it with the usefulness of #Bitcoin.\",\n",
       " 'No it’s orange #bitcoin https://t.co/bqhLL3VVXf',\n",
       " '@PeterSchiff @elonmusk I cannot wait to see his tweets when #bitcoin hits 100k.',\n",
       " 'Days like today are not the days to buy #bitcoin.',\n",
       " 'My favourite two investments/ interests/passions: #tesla and #bitcoin\\n\\nHappy and excited!\\n\\n\\u2066@elonmusk\\u2069 Tesla buys $… https://t.co/yP5UYUdOwP',\n",
       " 'Shoutout to everyone who trusted #Bitcoin 3-5-10 years earlier than Elon Musk.\\n\\nWho can say now you are not a visionary?',\n",
       " \"Guess what I'm buying with my #Bitcoin 😎 \\nReservation number ~64500 of the 650.000 reservations 😎\\n🚀🚀🚀 https://t.co/nZdpkKnRjS\",\n",
       " 'Please sombody tell @AlikoDangote to invest in BITCOIN &amp; cryptocurrencies the earlier the better. We have your inte… https://t.co/Sxz3TD4mTe',\n",
       " \"In a way... @elonmusk is the new @officialmcafee of #2021 ... Kinda sad mcafee isn't here right now.\\n\\nWho would hav… https://t.co/HaUmZ6lMpm\",\n",
       " 'With new retail traders finding #Bitcoin through #dogecoin, buying a new @Tesla with #crypto profits will be a flex… https://t.co/nyPK46KdLI',\n",
       " '#Bitcoin over $50k end of week prediction. #cryptocurrency',\n",
       " 'Bitcoin shouldn’t be referred to as 0.001 BTC. It should be 100,000 Satoshis. mBTC and bits are dumb and no one eve… https://t.co/Gxi8T1t59d',\n",
       " '#cryptocurrency is going crazy because a Discord trading server with  320,000 members just pumped #bitcoin. They we… https://t.co/Yc1utY3TIo',\n",
       " '#Bitcoin good morning',\n",
       " 'Trust in Elon #Bitcoin #ToTheMoon https://t.co/oYkvDdK16K',\n",
       " '#bitcoin has been supercharged.',\n",
       " '#Tesla embracing #Bitcoin for payments is an enormous slap in their own face. Bitcoin mining and transactions use r… https://t.co/Bw6rZ19bWR',\n",
       " 'With these 4 easy steps, your 3rd party insurance for your car dey your hands, Shikena!!!\\n\\nGet your insurance here;… https://t.co/cVvlgGiZtm',\n",
       " '$Tesla stocks hit $1k today??? #Bitcoin',\n",
       " '#cryptocurrency is going crazy because a Discord trading server with  320,000 members just pumped #bitcoin. They we… https://t.co/b0vnVY8MFw',\n",
       " 'possible #marketmanipulation! #tesla #elonmusk #musk #elon #bitcoin $btc #btc \"...However, Wilson also highlighted… https://t.co/FWkjYZqRoM',\n",
       " \"Perhaps, for the first time #Bitcoin comes into a large corporations' balance sheet. It's just the beginning!\\n\\nChee… https://t.co/BdwmknjC63\",\n",
       " \"@elonmusk Just had #Tesla invest in #Bitcoin.\\n\\nHow long until he realises that BTC isn't designed for the world's population any more? 🤔\",\n",
       " 'Me looking for friends to tell that @Tesla just bought $1.5 billion in #Bitcoin https://t.co/P487qfZXyr',\n",
       " '@DocumentingBTC .@elonmusk and $TSLA adding $1.5B #Bitcoin to its balance sheet is both a visionary and responsible… https://t.co/vRxB7EA2XJ',\n",
       " \"'Bitcoin is for everyone' \\n'Bitcoin is the redistribution of wealth'\\nlol\\nWho has $44,000 to buy one #Bitcoin ? https://t.co/fxB9nnMfZY\",\n",
       " 'JP Fund Services SA weekly newsletter is now on tradesDNA, Portfolio Strategist Mike Kelley gives his comments to t… https://t.co/s9gSW8NMDT',\n",
       " '$btc is getting pumped by a large #bitcoin pump group. They also pumped $doge last week! https://t.co/0hci5Y7hqt https://t.co/SFh0o4wPax',\n",
       " 'This #Bitcoin bull run 𝙨𝙩𝙖𝙧𝙩𝙚𝙙 with @elonmusk and Tesla buying it, imagine where it will end.',\n",
       " '@PeterSchiff @cz_binance @elonmusk Anytime Peter says anything about #bitcoin counter it and you’ll be just fine. O… https://t.co/Xw73RIGGcj',\n",
       " 'Yo @elonmusk I fly over gf1 every day for work. Y’all got an electric plane in the works? Will you take #Bitcoin fo… https://t.co/xjtmmg4ZTh',\n",
       " 'This got me rolling 😂😂😂 #Bitcoin https://t.co/C4q7yx38B5',\n",
       " '#bitcoin before...\\n\\n$btcusd https://t.co/tO16PUURbI',\n",
       " '2 years ago I thought good things about Elon. He was a successful and science lover man. But now he is a great spec… https://t.co/su56BQQSEf',\n",
       " \"@Pentosh1 🤷🏾\\u200d♂️ facts TF is it doing #Bitcoin jumped by 2k while $ETH sat there under it's ATH https://t.co/7c98lvbwqR\",\n",
       " 'No way! The Discord trading group that pumped $doge is now pumping $btc. Look at their last announcement about… https://t.co/ymfzDm53gE',\n",
       " 'To be honest, I never thought 100k #Bitcoin was possible in 2021. It seemed so far away at 6k, 10k, even 20k. But s… https://t.co/v8kV2DaF3U',\n",
       " 'Has #Bitcoin started soaring already?',\n",
       " '@tyler @michael_saylor @jack @elonmusk I am next man , stay tuned #Bitcoin',\n",
       " '#cryptocurrency is going crazy because a Discord trading server with  320,000 members just pumped #bitcoin. They we… https://t.co/x5V5TX7sFQ',\n",
       " '$btc is getting pumped by a large #bitcoin pump group. They also pumped $doge last week! https://t.co/jeaS1a3TfM… https://t.co/gOWQ7nGQav',\n",
       " '🔄 Prices update in $USD (1 hour):\\n\\n$BTC - 44000.0 $ (-0.16 %)\\n$ETH - 1713.65 $ (-0.24 %)\\n$XRP - 0.45 $    (+4.92 %)… https://t.co/K4woh3HH6u',\n",
       " '#Bitcoin\\xa0 jumps to fresh ATH as #Tesla buys $1.5B in bitcoin and a large Discord trading group announces they are p… https://t.co/SGCXjJQo9g',\n",
       " 'So the guy who sent a rocket to Mars roundtrip for the 1st time in history,who developed the 1st autonomous car in… https://t.co/lxe4KswAXj',\n",
       " 'This 👇🏻 \\n\\n#Bitcoin https://t.co/zRt0ZGxRlF',\n",
       " 'IS POLKADOT A GOOD INVESTMENT? | https://t.co/VEKCRx67hI |\\n #Metamask #Bitcoin #defi #Crypto #ethereum #blockchain… https://t.co/UTqOJl8YHb',\n",
       " '$btc is getting pumped by a large #bitcoin pump group. They also pumped $doge last week! https://t.co/APXSlBc0pc… https://t.co/XlnbDLj1NR',\n",
       " 'A new #Bitcoin price zone has just been detected \\n\\n🔸RESISTANCE🔸\\n\\nTo unlock all #BTC zone detections join our telegr… https://t.co/FGda2qyF9A',\n",
       " 'Historic day #Bitcoin',\n",
       " '\\u2066@elonmusk\\u2069 - thanks for accepting #Bitcoin, can’t wait till she arrives!! https://t.co/5XUxr505IN']"
      ]
     },
     "execution_count": 9,
     "metadata": {},
     "output_type": "execute_result"
    }
   ],
   "source": [
    "tweets = tw.Cursor(api.search,\n",
    "                       q=new_search,\n",
    "                       lang=\"en\",\n",
    "                       since=date_since).items(100)\n",
    "\n",
    "[tweet.text for tweet in tweets]"
   ]
  },
  {
   "cell_type": "code",
   "execution_count": 10,
   "metadata": {},
   "outputs": [],
   "source": [
    "# Define the search term and the date_since date as variables\n",
    "search_words = \"#swachbharat\"\n",
    "date_since = \"2018-11-16\""
   ]
  },
  {
   "cell_type": "code",
   "execution_count": 11,
   "metadata": {},
   "outputs": [
    {
     "data": {
      "text/plain": [
       "<tweepy.cursor.ItemIterator at 0x25dd40e1188>"
      ]
     },
     "execution_count": 11,
     "metadata": {},
     "output_type": "execute_result"
    }
   ],
   "source": [
    "# Collect tweets\n",
    "tweets = tw.Cursor(api.search,\n",
    "              q=search_words,\n",
    "              lang=\"en\",\n",
    "              since=date_since).items(100)\n",
    "tweets\n"
   ]
  },
  {
   "cell_type": "code",
   "execution_count": 12,
   "metadata": {},
   "outputs": [
    {
     "name": "stdout",
     "output_type": "stream",
     "text": [
      "RT @IndiaIcea: PM Modi's vision inspired us to take defining steps towards making India Single Use Plastic Free. ICEA presents IMPACT SERIE…\n",
      "RT @IndiaIcea: PM Modi's vision inspired us to take defining steps towards making India Single Use Plastic Free. ICEA presents IMPACT SERIE…\n",
      "RT @IndiaIcea: PM Modi's vision inspired us to take defining steps towards making India Single Use Plastic Free. ICEA presents IMPACT SERIE…\n",
      "RT @IndiaIcea: PM Modi's vision inspired us to take defining steps towards making India Single Use Plastic Free. ICEA presents IMPACT SERIE…\n",
      "RT @IndiaIcea: PM Modi's vision inspired us to take defining steps towards making India Single Use Plastic Free. ICEA presents IMPACT SERIE…\n"
     ]
    }
   ],
   "source": [
    "# Collect tweets\n",
    "tweets = tw.Cursor(api.search,\n",
    "              q=search_words,\n",
    "              lang=\"en\",\n",
    "              since=date_since).items(5)\n",
    "\n",
    "# Iterate and print tweets\n",
    "for tweet in tweets:\n",
    "    print(tweet.text)"
   ]
  },
  {
   "cell_type": "code",
   "execution_count": 13,
   "metadata": {},
   "outputs": [
    {
     "data": {
      "text/plain": [
       "'#swachbharat -filter:retweets'"
      ]
     },
     "execution_count": 13,
     "metadata": {},
     "output_type": "execute_result"
    }
   ],
   "source": [
    "new_search = search_words + \" -filter:retweets\"\n",
    "new_search"
   ]
  },
  {
   "cell_type": "code",
   "execution_count": 14,
   "metadata": {},
   "outputs": [
    {
     "data": {
      "text/plain": [
       "[\"PM Modi's vision inspired us to take defining steps towards making India Single Use Plastic Free. ICEA presents IMP… https://t.co/ZniMSHmGxa\",\n",
       " 'We are talking about #swachbharat but not able to clean a single trAin, Traveling in Kaifiyat express, cockroaches… https://t.co/8yDKalr3if',\n",
       " '@cmohry @SDMBahadurgarh @mlkhattar Sir can you please help us manage garbage in the nearby areas of our colony. \\n1.… https://t.co/F1eSpUT0PB',\n",
       " 'So this cutie-pie bunny wanted to keep surroundings clean, imitating her dad there. \\nAnd govt is spending so much o… https://t.co/mry6TLWmcU',\n",
       " '@Suhelseth The same way they would Understand #Mankibaat #Swachbharat #kaaladhan and others 😂😂😂',\n",
       " 'Ravish kumar is rubbish of our country...\\n#SwachBharat is need of our country.. https://t.co/xCBWIUBLpe',\n",
       " \"@sambitswaraj @PMOIndia \\n@narendramodi \\nThis is near DMCH hospital 🏥.\\nNaka6 Darbhanga Bihar.\\nIt's time to rate the… https://t.co/mbZAwd7sHL\",\n",
       " \"Delhi Court seeks Centre's stand on salary payment, medical facilities to sanitation workers #SwachBharat… https://t.co/Hbes4abTHH\",\n",
       " 'if we really want to clean india first of all boycott india media\\n#swachbharat \\n#FarmersAreIndia',\n",
       " 'ICEA presents our first IMPACT SERIES - RETHINK, RESET, REIMAGINE focused on making India Single Use Plastic Free.… https://t.co/kedI7IaXSG',\n",
       " '@jotishmarri @arvindkumar_ias @CommissionrGHMC @HMDA_Gov @GHMCOnline Adding quick action on this, please.… https://t.co/g9NUZoatRi',\n",
       " \"@narendramodi We are with you pm because I'm indian #swachbharat\",\n",
       " 'Digital Door Numbers Project.\\nif you are interested, then share your number in the comment box....\\n#cleanindia… https://t.co/PdODBtrgLV',\n",
       " 'Zero waste suggests that you are not throwing away any plastic products and rather utilizing them for something dif… https://t.co/wK9kUGZ8io',\n",
       " '@THEMr_MAX I have never really taken the orders of random nobodies on what I should do. I suggest you DO take a shi… https://t.co/SIwuuUg503',\n",
       " \"GHMC's newly installed Portable Compactor for garbage collection at Chacha Nehru Park. Plan for development of the… https://t.co/117YgBdG9l\",\n",
       " 'Our street is not cleaned regularly inspite of repeated complaints.  Is Swachh Bharat mission limited to only few localities??  #swachBharat',\n",
       " '#SwachBharat 2.0 gets Rs 1.41 lakh crore over five years: FM \\n\\n#BL Budget #UnionBudget @businessline #BLBudget',\n",
       " '#Budget2021 #Atmanirbar health yogna ₹64180 crore for 6 years. 15 health emergency centers. #Jaljeevan mission to cover #swachbharat mission',\n",
       " '#SwachBharat 2.0 gets Rs 1.41 lakh crore over five years: FM \\n\\n#BL Budget #UnionBudget @businessline #BLBudget']"
      ]
     },
     "execution_count": 14,
     "metadata": {},
     "output_type": "execute_result"
    }
   ],
   "source": [
    "tweets = tw.Cursor(api.search,\n",
    "                       q=new_search,\n",
    "                       lang=\"en\",\n",
    "                       since=date_since).items(100)\n",
    "\n",
    "[tweet.text for tweet in tweets]"
   ]
  },
  {
   "cell_type": "code",
   "execution_count": 15,
   "metadata": {},
   "outputs": [],
   "source": [
    "# Define the search term and the date_since date as variables\n",
    "search_words = \"#kisan\"\n",
    "date_since = \"2020-01-01\""
   ]
  },
  {
   "cell_type": "code",
   "execution_count": 16,
   "metadata": {},
   "outputs": [
    {
     "data": {
      "text/plain": [
       "<tweepy.cursor.ItemIterator at 0x25dd3fb9988>"
      ]
     },
     "execution_count": 16,
     "metadata": {},
     "output_type": "execute_result"
    }
   ],
   "source": [
    "# Collect tweets\n",
    "tweets = tw.Cursor(api.search,\n",
    "              q=search_words,\n",
    "              lang=\"hi\",\n",
    "              since=date_since).items(100)\n",
    "tweets\n"
   ]
  },
  {
   "cell_type": "code",
   "execution_count": 17,
   "metadata": {},
   "outputs": [
    {
     "name": "stdout",
     "output_type": "stream",
     "text": [
      "\"देश को आजादी\" \n",
      "\"आंदोलन\"\n",
      " करके ही मिली थी। \n",
      "तब ब्रिटिशों के\n",
      " \"तुकड़ोपर पलनेवाले जीवी\"\n",
      "\n",
      " घर में ही बैठे थे।… https://t.co/ntSc8MLFs3\n",
      "खेतीबाड़ी के दौरान आधुनिक कृषि मशीनरी, फसल प्रबंधन, और संतुलित उर्वरकों के अलावा सही समय पर कृषि कार्यों का होना बे… https://t.co/vvybTdwVYJ\n",
      "RT @iamishav: Andolan Karne wale #Kisan Bhai bahan ab Parjivi hogaye \n",
      "Jabaki perjivi toh Aap sab hai jo Kisan per depend hai.\n",
      "#KisanAandolan\n",
      "RT @ChetnaS63591712: किसानों के लिए दरवाजे खुले हैं साहब जी का फरमान फिर बंद किस के लिए था और है ये भी लगे हाथों हो जाए। ।#India #thoughts…\n",
      "@RupeshBhatiya5 @zoo_bear Bus jehi atta hai bolna kabi kise ache se baat karni sekh lo\n",
      "#Bjp and rss murdabaad… https://t.co/N5C48AUCmu\n"
     ]
    }
   ],
   "source": [
    "# Collect tweets\n",
    "tweets = tw.Cursor(api.search,\n",
    "              q=search_words,\n",
    "              lang=\"hi\",\n",
    "              since=date_since).items(5)\n",
    "\n",
    "# Iterate and print tweets\n",
    "for tweet in tweets:\n",
    "    print(tweet.text)"
   ]
  },
  {
   "cell_type": "code",
   "execution_count": 18,
   "metadata": {},
   "outputs": [
    {
     "data": {
      "text/plain": [
       "'#kisan -filter:retweets'"
      ]
     },
     "execution_count": 18,
     "metadata": {},
     "output_type": "execute_result"
    }
   ],
   "source": [
    "new_search = search_words + \" -filter:retweets\"\n",
    "new_search"
   ]
  },
  {
   "cell_type": "code",
   "execution_count": 19,
   "metadata": {},
   "outputs": [
    {
     "data": {
      "text/plain": [
       "['\"देश को आजादी\" \\n\"आंदोलन\"\\n करके ही मिली थी। \\nतब ब्रिटिशों के\\n \"तुकड़ोपर पलनेवाले जीवी\"\\n\\n घर में ही बैठे थे।… https://t.co/ntSc8MLFs3',\n",
       " 'खेतीबाड़ी के दौरान आधुनिक कृषि मशीनरी, फसल प्रबंधन, और संतुलित उर्वरकों के अलावा सही समय पर कृषि कार्यों का होना बे… https://t.co/vvybTdwVYJ',\n",
       " '@RupeshBhatiya5 @zoo_bear Bus jehi atta hai bolna kabi kise ache se baat karni sekh lo\\n#Bjp and rss murdabaad… https://t.co/N5C48AUCmu',\n",
       " 'किसानों के लिए दरवाजे खुले हैं साहब जी का फरमान फिर बंद किस के लिए था और है ये भी लगे हाथों हो जाए। ।#India… https://t.co/7QjC862EXv',\n",
       " 'कृषि कानूनों का विरोध : सैकड़ों ट्रैक्टरों पर कांग्रेस ने निकाली किसानों के समर्थन में रैली\\n#FarmerProtest… https://t.co/cvlVP08S0Q',\n",
       " '#kisan ekta morcha jindabad❤️❤️❤️❤️ https://t.co/O7rTxFnu9z',\n",
       " 'गाजीपुर बॉर्डर किसान क्रांति गेट पर तिरंगे लहराया जाएगा । जो देश भर से जल आ रहा है उसी जल का इस्तेमाल करके यहां चबू… https://t.co/BaYRhnWVHB',\n",
       " 'रबी सीजन में किसान कई मुख्य फसलों की खेती करते हैं. सरसों को रबी की मुख्य फसल (Mustard Cultivation) माना जाता है.… https://t.co/UEg1mqd2rZ',\n",
       " 'Andolan Karne wale #Kisan Bhai bahan ab Parjivi hogaye \\nJabaki perjivi toh Aap sab hai jo Kisan per depend hai.\\n#KisanAandolan',\n",
       " 'किसान आंदोलन : सिंघु बॉर्डर पर ट्रैफिक को किया गया डायवर्ट #SinghuBorder #KisanAandolan #kisan #Traffic… https://t.co/sfAKP2PBdK',\n",
       " '#Kisan majdur ekta jindabadhttps://www.instagram.com/p/CK6UXSEgmdx/?igshid=18erz3yl3ngj9',\n",
       " 'Hum hi bunyaad ka apththar hain __ hame ghar se nikala ja raha hain\\n#rahatindori\\n#kisan \\n#justiceforkisan',\n",
       " 'Asaduddin Owaisi का जबरदस्त बयान : कहा भारत के किसानों ने नरेंद्र मोदी की नींद हराम कर दिया है ,… https://t.co/XFFfESjWEj',\n",
       " 'ये भी सही है.... 😂😂\\n#media #kisan https://t.co/fKRFeNfGZ5',\n",
       " 'राज्\\u200dयसभा में प्रधानमंत्री ने राष्\\u200dट्रपति के अभिभाषण पर धन्\\u200dयवाद प्रस्\\u200dताव का दिया जवाब #RajyaSabha… https://t.co/hL7gNBueBN',\n",
       " '@PMOIndia \\n#MSP ke liye\\n#Yaaro,\\nMaine #KisanAndolan ke baare mai kaha tha ki agar Sarkar #MSP ke ooper koi decision… https://t.co/Jn1GYhguq6',\n",
       " 'Abhi Tak #ModiWithFarmers tha... fir #Kisan aatankvadi #khalistani hai chala... Ab International Propaganda chal ra… https://t.co/KXNK4If2BQ',\n",
       " 'किसी की मासूमियत का इतना भी फायदा मत उठाइए जनाब कि सामने वाला अपनी मासूमियत से ही दगा कर ले। उसके मासूमियत को मासू… https://t.co/hxTLHU1LgO',\n",
       " 'केंद्रीय कृषि एवं किसान कल्याण राज्यमंत्री कैलाश चौधरी ने रविवार को जिला मुख्यालय स्थित सांसद सेवा केंद्र में आयोजि… https://t.co/65E7VYRCYU',\n",
       " 'क्या कृषि कानून इतने अच्छे हैं कि भाजपा-संघ अपनी पहचान,अस्तित्व सब दाँव पर लगा दे ? https://t.co/3dVC5cGWQ2… https://t.co/MDy3jLzp3f',\n",
       " '@amaanbali Dekho  Bhai \\n\\nIndia #Kisan Ke Sath Hai \\nIndia #Khalistan Ke Sath Nahin \\n\\nBaaki \\n\\nTum Samajhdar Ho… https://t.co/nP03SeYxlI',\n",
       " '@ZeeNewsEnglish Tum seeto ka faisla kro jo tumko achhe se ata hai \\nKheti ka faisla kisan kre jo #kisan ko achhe se… https://t.co/hUB3Ly9cyv',\n",
       " 'सिरका एक ऐसा प्रिजर्वेटिव है जिसका उपयोग खानपान की वस्तुएं बनाने में किया जाता है. लोगों की बदलती जीवन शैली में सिर… https://t.co/PqJz7mjdPR',\n",
       " 'हरियाणा में कपास का एमएसपी 5800+ है किसी भी एक किसान की फसल 5800 नही बिकी । झूठ बोलना कब बन्द करे प्रधानमंत्री जी ।… https://t.co/YKycDZqKMq',\n",
       " '#FarmersProtest : विकलांग हरेंद्र का बड़ा एलान, अब क्या करेंगे पीएम मोदी |  #KisanAndolan | #NewzworldIndia… https://t.co/hTpa5p5Dz1',\n",
       " 'देश में गन्ना किसानों की दशा किसी से छुपी नहीं है लेकिन इसके बावजूद कुछ प्रगतिशील किसान गन्ने की खेती से मोटा मुना… https://t.co/f2KhxwEShW',\n",
       " '@RakeshTikaitBKU @PTI_News @AHindinews @AShukkla @KisanEktaMarch MSP थी है और रहेगी- PM in Rajyasabha\\n\\nइससे बेहतर… https://t.co/w7QeNknDRm',\n",
       " 'MSP थी है और रहेगी- PM in Rajyasabha\\n\\nइससे बेहतर था ये कहना कि हम MSP गारंटी कानून ला रहे हैं।\\n\\n#PMModi… https://t.co/0efCNu5wON',\n",
       " '#Kisan andolan desh ka pehla andolan jisne desh mein hindu Muslim Sikh isaie sadbhavna badhane ka kam kiya hai.sark… https://t.co/T156gZi6ix',\n",
       " '1 2 3 4 kisanon ki Jay Jaikar #Jay #Kisan #Jay #Jawan',\n",
       " 'केंद्र सरकार किसानों के आमदनी में इजाफा करने के लिए कई तरह की योजनाएं चला रही है. जिनका सीधा लाभ देश के अलग-अलग रा… https://t.co/3jQ2xOQ8qB',\n",
       " '@BawaRanjit #Kisan majdur Ekta jindabad',\n",
       " 'किसान क्रेडिट कार्ड (Kisan Credit Card) या केसीसी (KCC) केंद्र सरकार द्वारा किसानों के लिए की गई एक पहल है ताकि देश… https://t.co/iBE6mJmcof',\n",
       " 'Pehli Baar budget mein list of items to be sold dekhane ko Mila.\\nBecho ji becho.\\nSougandh is mitti ki...… https://t.co/YAEWjKPrAV',\n",
       " 'बड़े भोले बन के वे पूछ रहे हैं इस में क्या है काला,\\nनीयत जिनकी काली है, सीरत जिनकी काली है।\\n- @yadavakhilesh | रा… https://t.co/W5p2IOrtKu',\n",
       " 'हे हिन्दुओ!\\nअब प्रताप,शिवाजी,सूरजमल,रणजीत सिंह,लष्मी बाई आदि की तरह देश,धर्म शत्रुओ से अलग अलग मत लडो,\\nशत्रुओ के बह… https://t.co/GX2PpgELcu',\n",
       " '@RajatSharmaLive Jis suraj ki bat kr rahe hain aap us Suraj ko #kisan hanuman Ki tarah muh se nigal jayenge',\n",
       " '@ikarandeol #Kisan ekta zindabad # Khalistan zindabad #',\n",
       " '#Kisan majdur ekta jindabad https://t.co/t2DsN2GpQ4',\n",
       " 'बदलते हुए समय के साथ-साथ हमारी जीवनशैली और हमारे खान-पान की संस्कृति भी बदली है. यही कारण है कि आज कम उम्र में ही… https://t.co/jKwWUoghRn',\n",
       " '#kisan Mazdoor ekta jindabad jindabad',\n",
       " '@SonuPan84341781 @BhagwantMann #Kisan Ekta jindabad Jay Jawan Jay Kisan',\n",
       " '@dilbagbal29 @AmandaCerny Waheguru es nek bande tu apne charna ch thaa deve.  Es #kisan di jaan da mul jarur pauga.… https://t.co/GrTcMXcTWm',\n",
       " 'तूम डाल डाल हम पात पात\\nजय हो किसान\\n#kisan #farmer https://t.co/M8Hr6LR5wx',\n",
       " '@RajatSharmaLive Kya aap ek bhi din gae he #KisanAndolan me ?\\n\\n#KisanAndolan #kisan #JaiJawanJaiKissan',\n",
       " 'Rose Day🌹 पर मेरा एक फूल उन नौजवानों और किसान को समर्पित हैं...\\nजिनकी वज़ह से हम जिन्दा हैं...🙏🏻\\n    👇👇… https://t.co/8Z6AcrdUmO',\n",
       " 'इस अन्नदाता ने तुम्हे इस योग्य बनाया है की तुम्हारे देश के बड़े बड़े शासक आज कटोरा लेकर नहीं खड़े हुए है बल्कि दुनि… https://t.co/C5vaFnyl8N',\n",
       " '@RupeshBhatiya5 @zoo_bear Eh tere warge andh bhagat ne\\n#kisan majdoor ekta jindabaad',\n",
       " '@PratikK91685954 @SpiritOfCongres Chicken bhashan sunane se Nahin Kuch dhaan khaane se  bada hota hai Jo kisaan uga… https://t.co/zIKHBdtLwz',\n",
       " '@indijaswal #kisan majdur ekta jindabad',\n",
       " 'एक बात याद रखना.. अगर चूक गए तो ये देश का आखिरी आंदोलन होगा\\n\\nऔर अगर जीत गये तो कभी आन्दोलन कि ज़रूरत नहीं पड़ेगी #F… https://t.co/S9L0djBZAn',\n",
       " 'महापंचायत में राकेश टिकैत बोले- जब तक कृषि कानून वापिस नहीं होते तब तक घर वापसी नहीं होगी\\n#rakeshtikait #farmers… https://t.co/f9jU2ui8hi',\n",
       " '#Kisan Ekta jindabad',\n",
       " '#Kisan protest\\nआप बिना खौफ सही बोलने की हिम्मत रखो\\n   सामने चाहे पीएम मोदी ही क्यों ना हो',\n",
       " '#kisan bacho\\nDesh bacho',\n",
       " 'कहाँ हर लफ्ज पे नाम आता था अनाज का!\\nआज किसी के दो शब्द मयस्सर नहीं उनके लिए।\\n#KisanAandolan #KisanEktaZindaabaad… https://t.co/4euZB6oNhh',\n",
       " 'जनसंख्या में भारी वृद्धि, शहरीकरण और आय वृद्धि की वजह से गाय के दूध और गोमूत्र जैसे अन्य उत्पादों की मांग तेजी से ब… https://t.co/qWYeWs1RKJ',\n",
       " '@jayantrld @bhupenderc19 #Tea bhi farm me he ugti hai, waha bhi #Farmer he mehnat karta hai... #Kisan se kab baat karoge modiji??',\n",
       " '@RupeshBhatiya5 @zoo_bear #agar ram ko keval Brahman ja kaho hindu pyre hote toh woh kise or kom ko janam na laine… https://t.co/lpu5pncij2',\n",
       " '@Karanra87258504 @saahilmenghani @rishavsingh999 @RakeshTikaitBKU आंध्र प्रदेश में कपास की कीमतें \\n\\nMSP: 5,825 रुप… https://t.co/UsSLyfZGiM',\n",
       " 'क्यों न #एक्ट खुद ही पढ़ लिया जाए समझ लिया जाए https://t.co/LaQ9tgbdyc\\n\\n#FarmersProtests #KisanAandolan… https://t.co/DtjhFk3ld3',\n",
       " '@NBTDilli @Rajeshpoddar00 #RakeshTikait ka naya #dhandha 🤬 #nakali #kisan asli dhandha #sighuborder',\n",
       " '#Bharat ke #Kisan Ne #Modi ki Neend ko #Haram kardiya,\\n#Bjp ki Tai Tai #Hogayi hai.\\n#Gujarat ki Awaam ko #Ittehad k… https://t.co/DeXtNn92ra',\n",
       " 'आड़ू का सेवन करना शरीर के लिए काफी फायदेमंद माना जाता है. इसे अंग्रेजी में पीच कहा जाता है. यह फल बहुत ही लोकप्रिय… https://t.co/2Og2KYNpdF',\n",
       " 'किसानों गरीबो के समर्थन में मेरा एक छोटी सी रचना🙏\\n#SupportFarmersProtest  #kisan  #kisanprotest  #RakeshTiket… https://t.co/qhq6Thdsvg',\n",
       " '#kisan  bahut hua atay char band karo kisan  par https://t.co/18jW1QQ8XU',\n",
       " '#Bharat ke #Kisan Ne #Modi ki Neend ko #Haram kardiya,\\n#Bjp ki Tai Tai #Hogayi hai.\\n#Gujarat ki Awaam ko #Ittehad k… https://t.co/9KhrUw9fxe',\n",
       " 'युवाओं को आत्मनिर्भर बनाने के लिए लिए नए साल 2021 में कई पहल की जाएगी. इस क्रम में बिहार के कृषि विज्ञान केंद्र में… https://t.co/RCYF94NA9P',\n",
       " '@BJP4India @narendramodi Kisan andolan par bhi bolo sahab....\\n#Kisan andolan',\n",
       " 'कृषि बिलों का विरोध: कोटा में निकाली 700 ट्रैक्टरों की रैली \\n\\n @BJP4Rajasthan @INCRajasthan @RLPINDIAorg… https://t.co/of2nlB2BIe',\n",
       " 'किसानों की आमदनी को लेकर मोदी सरकार लगातार प्रयास कर रही है. सरकार का लक्ष्य है कि साल 2022 तक किसानों की आमदनी को… https://t.co/zak6nkattV',\n",
       " 'Kissan Mazdoor Ekta Zindabad 💪 \\n#SpeakUpForNodeep #NoFarmersNoFood #Farmers #IAmFarmer #IStandWithFarmers… https://t.co/m2pmBm16jd',\n",
       " 'प्रधानमंत्री मुद्रा योजना (Pradhan Mantri Mudra Yojana) 8 अप्रैल 2015 को शुरू की गई थी. इसके तहत नॉन-कॉरपोरेट, नॉन-… https://t.co/CE5m9NJs8n',\n",
       " 'चीर के जमीन को, मैं उम्मीद बोता हूँ… मैं किसान हूँ, चैन से कहाँ सोता हूँ…🇮🇳🇮🇳🇮🇳\\nमेरे भाई श्री गयासुद्दीन साहब… https://t.co/gNcKG0TtJI',\n",
       " 'Elvish Yadav ne bhi kisano ko Khalistani bola🙏\\nrakesh tikait #Modi #RakeshTiket #Khalistani… https://t.co/6WH1xg2blb',\n",
       " 'ये सच है कि राम का नाम सिर्फ और सिर्फ बीजेपी का चुनावी एजेंडा है, हर कोई जानता है कि इस तानाशाही शासन से आम जनता ब… https://t.co/HqjMU28bHz',\n",
       " 'राज्य सरकार की तरफ से पशुपालन को बढ़ावा देने के लिए बनाई जा रही पशु किसान क्रेडिट कार्ड योजना (Pashu kisan credit y… https://t.co/Tg5hefGXZj',\n",
       " 'Jai Jawan, Jai Kisan 🇮🇳 🙏\\n#Kisan https://t.co/pKvoE3Yk4K',\n",
       " '#Kisan majdur Ekta jindabad \\n#farmer protest',\n",
       " '@PMOIndia @AmitShah @ArvindKejriwal @imVkohli @myogioffice @myogiadityanath @narendramodi @rajnathsingh… https://t.co/zWHOLPutwl',\n",
       " 'Land Purchase Scheme: देश में जैविक खेती के बढ़ते क्रेज और और भूमिहीन किसानों की मदद करने के हिसाब से देश के सबसे… https://t.co/WjGNU15tnQ',\n",
       " 'आज हरियाणा में फिर होगी राकेश टिकैत की महापंचायत, गुरनाम सिंह चढूनी भी रहेंगे मौजूद\\nhttps://t.co/07LcicyPSf… https://t.co/DWFqEvJlQ2',\n",
       " '.\\nपतंगें सोचती हैं उन्हें मिलवाया जा रहा है\\nपतंगें नहीं जानती, उन्हें लड़वाया जा रहा।\\n#Politics \\n#Farmers \\n#kisan _… https://t.co/v85fGe9Ae3',\n",
       " '@ranvijaylive Kisan ko ek baar boliye press conference kr k pure bill ko samjhaye tb janu ki andolan sahi hai, #kisan nhi atankwadi hai sb',\n",
       " '#Ekta vich wala hai\\n#Kisan majdur \\n#Ekta jindabad https://t.co/mQ4ZejM4Js',\n",
       " '#Ekta vich Bal hai\\n#Kisan majdur\\n#Ekta jindabad https://t.co/UNtCkxYEQj',\n",
       " '#kisan ekta jindabad',\n",
       " '#KisanAndolan#राजस्थान के किसानों से अपील है कि ज्यादा से ज्यादा इस आंदोलन में भागीदारी दें सबसे ज्यादा युवाओं से… https://t.co/r6mAGC0vPB',\n",
       " '#KisanAndolan#राजस्थान के किसानों से अपील है कि ज्यादा से ज्यादा इस आंदोलन में भागीदारी दें सबसे ज्यादा युवाओं से… https://t.co/z7k7Vh8Sau',\n",
       " '#kisan majdoor ekta jindabad https://t.co/TNbM6bTnih',\n",
       " '#kisan majdoor ekta jindabad https://t.co/oA4zEu7BbB',\n",
       " '#kisan majdoor ekta jindabad https://t.co/Q4uf7IRB3p',\n",
       " '@ChetanPareeek Kyonki #AndhBhakts  desh ke #kisan ki deshbhakti check kr rahe hai',\n",
       " 'केंद्र सरकार प्रधानमंत्री किसान सम्मान निधि योजना के लाभार्थियों को किसान क्रेडिट कार्ड (KCC) मुहैया करवा रही है.… https://t.co/GtZ7FTpn0r',\n",
       " 'अन्नदाता का सम्मान ईश्वर का सम्मान अन्नदाता का अपमान ईश्वर का अपमान #Kisan Andolen https://t.co/r9lWjGksW2',\n",
       " 'कल का ये जन सैलाब बहुत कुछ बयां करता है \\nFrom \\n#Bahaj #mahapanchayt #kisan\\n\\n.@thebharatpur @vishvendrabtp… https://t.co/EE7zBqDmUo',\n",
       " 'पशुपालन बिजनेस (Animal Husbandry Business) एक ऐसा बिजनेस है जिसे छोटे से छोटे स्तर पर कम लागत में शुरू कर सकते हैं.… https://t.co/w8pOlQeOwP',\n",
       " 'टिकैत को डकैत कहने में तुम्हें एक मिनिट नहीं लगा!\\n\\nपर अपने दिल पर हाथ रखकर बताओ,\\nटिकैत ने तुम्हारी कौनसी संपत्ति लू… https://t.co/f5ghOSjIor',\n",
       " '#kisan ekta jindabad https://t.co/0WPNtQpX66',\n",
       " '#kisanprotest  #kisan mujdor akta zidabad# jai zwan  jai kisan #']"
      ]
     },
     "execution_count": 19,
     "metadata": {},
     "output_type": "execute_result"
    }
   ],
   "source": [
    "tweets = tw.Cursor(api.search,\n",
    "                       q=new_search,\n",
    "                       lang=\"hi\",\n",
    "                       since=date_since).items(100)\n",
    "\n",
    "[tweet.text for tweet in tweets]"
   ]
  },
  {
   "cell_type": "code",
   "execution_count": 20,
   "metadata": {},
   "outputs": [
    {
     "name": "stdout",
     "output_type": "stream",
     "text": [
      "Requirement already satisfied: beautifulsoup4 in c:\\python38\\lib\\site-packages (4.9.3)\n",
      "Requirement already satisfied: soupsieve>1.2; python_version >= \"3.0\" in c:\\python38\\lib\\site-packages (from beautifulsoup4) (2.1)\n"
     ]
    },
    {
     "name": "stderr",
     "output_type": "stream",
     "text": [
      "WARNING: You are using pip version 20.1.1; however, version 21.0.1 is available.\n",
      "You should consider upgrading via the 'c:\\python38\\python.exe -m pip install --upgrade pip' command.\n"
     ]
    }
   ],
   "source": [
    "!pip3 install beautifulsoup4\n"
   ]
  },
  {
   "cell_type": "code",
   "execution_count": 21,
   "metadata": {},
   "outputs": [],
   "source": [
    "import pandas as pd\n",
    "import numpy as np\n",
    "import matplotlib.pyplot as plt\n",
    "import seaborn as sns\n",
    "%matplotlib inline\n",
    "import re\n",
    "import time\n",
    "from datetime import datetime\n",
    "import matplotlib.dates as mdates\n",
    "import matplotlib.ticker as ticker\n",
    "from urllib.request import urlopen\n",
    "from bs4 import BeautifulSoup\n",
    "import requests"
   ]
  },
  {
   "cell_type": "code",
   "execution_count": 22,
   "metadata": {},
   "outputs": [],
   "source": [
    "no_pages = 2\n",
    "\n",
    "def get_data(pageNo):  \n",
    "    headers = {\"User-Agent\":\"Mozilla/5.0 (Windows NT 10.0; Win64; x64; rv:66.0) Gecko/20100101 Firefox/66.0\", \"Accept-Encoding\":\"gzip, deflate\", \"Accept\":\"text/html,application/xhtml+xml,application/xml;q=0.9,*/*;q=0.8\", \"DNT\":\"1\",\"Connection\":\"close\", \"Upgrade-Insecure-Requests\":\"1\"}\n",
    "\n",
    "    r = requests.get('https://www.amazon.in/gp/bestsellers/books/ref=zg_bs_pg_'+str(pageNo)+'?ie=UTF8&pg='+str(pageNo), headers=headers)#, proxies=proxies)\n",
    "    content = r.content\n",
    "    soup = BeautifulSoup(content)\n",
    "    #print(soup)\n",
    "\n",
    "    alls = []\n",
    "    for d in soup.findAll('div', attrs={'class':'a-section a-spacing-none aok-relative'}):\n",
    "        #print(d)\n",
    "        name = d.find('span', attrs={'class':'zg-text-center-align'})\n",
    "        n = name.find_all('img', alt=True)\n",
    "        #print(n[0]['alt'])\n",
    "        author = d.find('a', attrs={'class':'a-size-small a-link-child'})\n",
    "        rating = d.find('span', attrs={'class':'a-icon-alt'})\n",
    "        users_rated = d.find('a', attrs={'class':'a-size-small a-link-normal'})\n",
    "        price = d.find('span', attrs={'class':'p13n-sc-price'})\n",
    "\n",
    "        all1=[]\n",
    "\n",
    "        if name is not None:\n",
    "            #print(n[0]['alt'])\n",
    "            all1.append(n[0]['alt'])\n",
    "        else:\n",
    "            all1.append(\"unknown-product\")\n",
    "\n",
    "        if author is not None:\n",
    "            #print(author.text)\n",
    "            all1.append(author.text)\n",
    "        elif author is None:\n",
    "            author = d.find('span', attrs={'class':'a-size-small a-color-base'})\n",
    "            if author is not None:\n",
    "                all1.append(author.text)\n",
    "            else:    \n",
    "                all1.append('0')\n",
    "\n",
    "        if rating is not None:\n",
    "            #print(rating.text)\n",
    "            all1.append(rating.text)\n",
    "        else:\n",
    "            all1.append('-1')\n",
    "\n",
    "        if users_rated is not None:\n",
    "            #print(price.text)\n",
    "            all1.append(users_rated.text)\n",
    "        else:\n",
    "            all1.append('0')     \n",
    "\n",
    "        if price is not None:\n",
    "            #print(price.text)\n",
    "            all1.append(price.text)\n",
    "        else:\n",
    "            all1.append('0')\n",
    "        alls.append(all1)    \n",
    "    return alls"
   ]
  },
  {
   "cell_type": "code",
   "execution_count": 23,
   "metadata": {},
   "outputs": [],
   "source": [
    "results = []\n",
    "for i in range(1, no_pages+1):\n",
    "    results.append(get_data(i))\n",
    "flatten = lambda l: [item for sublist in l for item in sublist]\n",
    "df = pd.DataFrame(flatten(results),columns=['Book Name','Author','Rating','Customers_Rated', 'Price'])\n",
    "df.to_csv('amazon_products.csv', index=False, encoding='utf-8')"
   ]
  },
  {
   "cell_type": "code",
   "execution_count": 24,
   "metadata": {},
   "outputs": [],
   "source": [
    "df = pd.read_csv(\"amazon_products.csv\")"
   ]
  },
  {
   "cell_type": "code",
   "execution_count": 25,
   "metadata": {},
   "outputs": [
    {
     "data": {
      "text/html": [
       "<div>\n",
       "<style scoped>\n",
       "    .dataframe tbody tr th:only-of-type {\n",
       "        vertical-align: middle;\n",
       "    }\n",
       "\n",
       "    .dataframe tbody tr th {\n",
       "        vertical-align: top;\n",
       "    }\n",
       "\n",
       "    .dataframe thead th {\n",
       "        text-align: right;\n",
       "    }\n",
       "</style>\n",
       "<table border=\"1\" class=\"dataframe\">\n",
       "  <thead>\n",
       "    <tr style=\"text-align: right;\">\n",
       "      <th></th>\n",
       "      <th>Book Name</th>\n",
       "      <th>Author</th>\n",
       "      <th>Rating</th>\n",
       "      <th>Customers_Rated</th>\n",
       "      <th>Price</th>\n",
       "    </tr>\n",
       "  </thead>\n",
       "  <tbody>\n",
       "    <tr>\n",
       "      <th>0</th>\n",
       "      <td>Spoken English Course (Telugu)</td>\n",
       "      <td>Vashista 360</td>\n",
       "      <td>-1</td>\n",
       "      <td>0</td>\n",
       "      <td>₹ 399.00</td>\n",
       "    </tr>\n",
       "    <tr>\n",
       "      <th>1</th>\n",
       "      <td>Ikigai: The Japanese secret to a long and happ...</td>\n",
       "      <td>Héctor García</td>\n",
       "      <td>4.6 out of 5 stars</td>\n",
       "      <td>8,295</td>\n",
       "      <td>₹ 306.00</td>\n",
       "    </tr>\n",
       "    <tr>\n",
       "      <th>2</th>\n",
       "      <td>My First Library: Boxset of 10 Board Books for...</td>\n",
       "      <td>Wonder House Books</td>\n",
       "      <td>4.5 out of 5 stars</td>\n",
       "      <td>13,679</td>\n",
       "      <td>₹ 429.00</td>\n",
       "    </tr>\n",
       "    <tr>\n",
       "      <th>3</th>\n",
       "      <td>What I Love About You and Our Memories: A Fill...</td>\n",
       "      <td>Sanjay D</td>\n",
       "      <td>4.7 out of 5 stars</td>\n",
       "      <td>172</td>\n",
       "      <td>₹ 259.00</td>\n",
       "    </tr>\n",
       "    <tr>\n",
       "      <th>4</th>\n",
       "      <td>World’s Greatest Books For Personal Growth &amp; W...</td>\n",
       "      <td>Dale Carnegie</td>\n",
       "      <td>4.5 out of 5 stars</td>\n",
       "      <td>2,400</td>\n",
       "      <td>₹ 319.00</td>\n",
       "    </tr>\n",
       "    <tr>\n",
       "      <th>...</th>\n",
       "      <td>...</td>\n",
       "      <td>...</td>\n",
       "      <td>...</td>\n",
       "      <td>...</td>\n",
       "      <td>...</td>\n",
       "    </tr>\n",
       "    <tr>\n",
       "      <th>95</th>\n",
       "      <td>The Forty Rules of Love</td>\n",
       "      <td>Elif Shafak</td>\n",
       "      <td>4.6 out of 5 stars</td>\n",
       "      <td>3,872</td>\n",
       "      <td>₹ 300.00</td>\n",
       "    </tr>\n",
       "    <tr>\n",
       "      <th>96</th>\n",
       "      <td>Target High - 5th Premium Colored Internationa...</td>\n",
       "      <td>Muthuvenkatachalam S</td>\n",
       "      <td>4.6 out of 5 stars</td>\n",
       "      <td>561</td>\n",
       "      <td>₹ 970.00</td>\n",
       "    </tr>\n",
       "    <tr>\n",
       "      <th>97</th>\n",
       "      <td>Harry Potter and the Philosopher's Stone</td>\n",
       "      <td>J.K. Rowling</td>\n",
       "      <td>4.7 out of 5 stars</td>\n",
       "      <td>21,965</td>\n",
       "      <td>₹ 240.00</td>\n",
       "    </tr>\n",
       "    <tr>\n",
       "      <th>98</th>\n",
       "      <td>Don't Lose Your Mind, Lose Your Weight</td>\n",
       "      <td>Rujuta Diwekar</td>\n",
       "      <td>4.4 out of 5 stars</td>\n",
       "      <td>2,940</td>\n",
       "      <td>₹ 186.00</td>\n",
       "    </tr>\n",
       "    <tr>\n",
       "      <th>99</th>\n",
       "      <td>Lines and Curves (Pattern Writing) - Part 1</td>\n",
       "      <td>Dreamland Publications</td>\n",
       "      <td>4.4 out of 5 stars</td>\n",
       "      <td>1,521</td>\n",
       "      <td>₹ 80.00</td>\n",
       "    </tr>\n",
       "  </tbody>\n",
       "</table>\n",
       "<p>100 rows × 5 columns</p>\n",
       "</div>"
      ],
      "text/plain": [
       "                                            Book Name                  Author  \\\n",
       "0                      Spoken English Course (Telugu)            Vashista 360   \n",
       "1   Ikigai: The Japanese secret to a long and happ...           Héctor García   \n",
       "2   My First Library: Boxset of 10 Board Books for...      Wonder House Books   \n",
       "3   What I Love About You and Our Memories: A Fill...                Sanjay D   \n",
       "4   World’s Greatest Books For Personal Growth & W...           Dale Carnegie   \n",
       "..                                                ...                     ...   \n",
       "95                            The Forty Rules of Love             Elif Shafak   \n",
       "96  Target High - 5th Premium Colored Internationa...    Muthuvenkatachalam S   \n",
       "97           Harry Potter and the Philosopher's Stone            J.K. Rowling   \n",
       "98             Don't Lose Your Mind, Lose Your Weight          Rujuta Diwekar   \n",
       "99        Lines and Curves (Pattern Writing) - Part 1  Dreamland Publications   \n",
       "\n",
       "                Rating Customers_Rated     Price  \n",
       "0                   -1               0  ₹ 399.00  \n",
       "1   4.6 out of 5 stars           8,295  ₹ 306.00  \n",
       "2   4.5 out of 5 stars          13,679  ₹ 429.00  \n",
       "3   4.7 out of 5 stars             172  ₹ 259.00  \n",
       "4   4.5 out of 5 stars           2,400  ₹ 319.00  \n",
       "..                 ...             ...       ...  \n",
       "95  4.6 out of 5 stars           3,872  ₹ 300.00  \n",
       "96  4.6 out of 5 stars             561  ₹ 970.00  \n",
       "97  4.7 out of 5 stars          21,965  ₹ 240.00  \n",
       "98  4.4 out of 5 stars           2,940  ₹ 186.00  \n",
       "99  4.4 out of 5 stars           1,521   ₹ 80.00  \n",
       "\n",
       "[100 rows x 5 columns]"
      ]
     },
     "execution_count": 25,
     "metadata": {},
     "output_type": "execute_result"
    }
   ],
   "source": [
    "df.head(100)\n"
   ]
  },
  {
   "cell_type": "code",
   "execution_count": null,
   "metadata": {},
   "outputs": [],
   "source": []
  }
 ],
 "metadata": {
  "kernelspec": {
   "display_name": "Python 3",
   "language": "python",
   "name": "python3"
  },
  "language_info": {
   "codemirror_mode": {
    "name": "ipython",
    "version": 3
   },
   "file_extension": ".py",
   "mimetype": "text/x-python",
   "name": "python",
   "nbconvert_exporter": "python",
   "pygments_lexer": "ipython3",
   "version": "3.7.6"
  }
 },
 "nbformat": 4,
 "nbformat_minor": 4
}
